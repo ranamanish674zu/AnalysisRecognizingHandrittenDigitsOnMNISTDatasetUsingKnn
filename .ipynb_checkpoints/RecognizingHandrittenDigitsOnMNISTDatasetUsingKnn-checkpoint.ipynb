{
 "cells": [
  {
   "cell_type": "markdown",
   "id": "6154203e",
   "metadata": {},
   "source": [
    "# Recognizing Handritten Digits On MNIST Dataset using knn"
   ]
  },
  {
   "cell_type": "code",
   "execution_count": 2,
   "id": "e90dce44",
   "metadata": {},
   "outputs": [],
   "source": [
    "import pandas as pd\n",
    "import numpy as np \n",
    "import matplotlib.pyplot as plt \n"
   ]
  },
  {
   "cell_type": "markdown",
   "id": "23bea9e0",
   "metadata": {},
   "source": [
    "# Step-1. Data preparation"
   ]
  },
  {
   "cell_type": "code",
   "execution_count": 5,
   "id": "9600e52f",
   "metadata": {},
   "outputs": [
    {
     "data": {
      "text/plain": [
       "(60000, 785)"
      ]
     },
     "execution_count": 5,
     "metadata": {},
     "output_type": "execute_result"
    }
   ],
   "source": [
    "df=pd.read_csv('mnist_train.csv')\n",
    "df.shape"
   ]
  },
  {
   "cell_type": "code",
   "execution_count": 6,
   "id": "0591a9b7",
   "metadata": {},
   "outputs": [
    {
     "name": "stdout",
     "output_type": "stream",
     "text": [
      "Index(['label', '1x1', '1x2', '1x3', '1x4', '1x5', '1x6', '1x7', '1x8', '1x9',\n",
      "       ...\n",
      "       '28x19', '28x20', '28x21', '28x22', '28x23', '28x24', '28x25', '28x26',\n",
      "       '28x27', '28x28'],\n",
      "      dtype='object', length=785)\n"
     ]
    }
   ],
   "source": [
    "#what each and every column represent \n",
    "print(df.columns)"
   ]
  },
  {
   "cell_type": "code",
   "execution_count": 20,
   "id": "10ac8086",
   "metadata": {},
   "outputs": [
    {
     "name": "stdout",
     "output_type": "stream",
     "text": [
      "   label  1x1  1x2  1x3  1x4  1x5  1x6  1x7  1x8  1x9  ...  28x19  28x20  \\\n",
      "0      5    0    0    0    0    0    0    0    0    0  ...      0      0   \n",
      "1      0    0    0    0    0    0    0    0    0    0  ...      0      0   \n",
      "2      4    0    0    0    0    0    0    0    0    0  ...      0      0   \n",
      "3      1    0    0    0    0    0    0    0    0    0  ...      0      0   \n",
      "4      9    0    0    0    0    0    0    0    0    0  ...      0      0   \n",
      "\n",
      "   28x21  28x22  28x23  28x24  28x25  28x26  28x27  28x28  \n",
      "0      0      0      0      0      0      0      0      0  \n",
      "1      0      0      0      0      0      0      0      0  \n",
      "2      0      0      0      0      0      0      0      0  \n",
      "3      0      0      0      0      0      0      0      0  \n",
      "4      0      0      0      0      0      0      0      0  \n",
      "\n",
      "[5 rows x 785 columns]\n",
      "<class 'pandas.core.frame.DataFrame'>\n"
     ]
    }
   ],
   "source": [
    "print(df.head(5))\n",
    "print(type(df))#it is dataframe (pandas)"
   ]
  },
  {
   "cell_type": "code",
   "execution_count": 17,
   "id": "2bc937bb",
   "metadata": {},
   "outputs": [
    {
     "name": "stdout",
     "output_type": "stream",
     "text": [
      "[[5 0 0 ... 0 0 0]\n",
      " [0 0 0 ... 0 0 0]\n",
      " [4 0 0 ... 0 0 0]\n",
      " ...\n",
      " [5 0 0 ... 0 0 0]\n",
      " [6 0 0 ... 0 0 0]\n",
      " [8 0 0 ... 0 0 0]]\n",
      "(60000, 785)\n",
      "<class 'numpy.ndarray'>\n"
     ]
    }
   ],
   "source": [
    "#converting dataset to numpy array so we can perform lots of operation easily \n",
    "data=df.values\n",
    "print (data)\n",
    "print(data.shape)\n",
    "print (type(data))\n"
   ]
  },
  {
   "cell_type": "code",
   "execution_count": 22,
   "id": "a9dd02eb",
   "metadata": {},
   "outputs": [
    {
     "name": "stdout",
     "output_type": "stream",
     "text": [
      "(60000, 784) (60000,)\n"
     ]
    }
   ],
   "source": [
    "# # ': 'symbol in [:, 1:]represents a slicing operator that is used to extract a portion of the data.The first colon':'indicates\n",
    "# that we want to select all rows in the data variable, while the second colon '1:'indicates that we want to select all columns \n",
    "# starting from the second column (i.e., column index 1) until the end.\n",
    "X=data[:,1:]\n",
    "Y=data[:,0]\n",
    "# #' :' symbol in [:, 0] represents a slicing operator that is used to extract a portion of the data. The first colon' :'\n",
    "# indicates that we want to select all rows in the data variable, while the 0 indicates that we want to select only the \n",
    "# first column (i.e., column index 0).\n",
    "print(X.shape,Y.shape)\n",
    "#X=variable\n",
    "#y=labels"
   ]
  },
  {
   "cell_type": "code",
   "execution_count": 24,
   "id": "8ad3da65",
   "metadata": {},
   "outputs": [
    {
     "data": {
      "text/plain": [
       "48000"
      ]
     },
     "execution_count": 24,
     "metadata": {},
     "output_type": "execute_result"
    }
   ],
   "source": [
    "split=int (0.8*X.shape[0])\n",
    "split\n",
    "#splits the rows into 80 or 20 % ."
   ]
  },
  {
   "cell_type": "code",
   "execution_count": 54,
   "id": "9f80923f",
   "metadata": {},
   "outputs": [
    {
     "name": "stdout",
     "output_type": "stream",
     "text": [
      "(48000, 784) (48000,)\n",
      "(12000, 784) (12000,)\n"
     ]
    }
   ],
   "source": [
    "X_train=X[:split,:]#take all the row up to split and take all the columns\n",
    "Y_train=Y[:split ] #take all the row up to split and don't take any column \n",
    "\n",
    "X_test =X[split:,:] #take all the row  from split to end and take all the columns\n",
    "Y_test=Y[split:]#take all the row from spit to end .\n",
    "\n",
    "print(X_train.shape,Y_train.shape)\n",
    "print(X_test.shape,Y_test.shape)"
   ]
  },
  {
   "cell_type": "markdown",
   "id": "4963333f",
   "metadata": {},
   "source": [
    "# Visualizing some Sample "
   ]
  },
  {
   "cell_type": "code",
   "execution_count": 61,
   "id": "c88c806d",
   "metadata": {},
   "outputs": [
    {
     "data": {
      "image/png": "[encoded data removed]",
      "text/plain": [
       "<Figure size 640x480 with 1 Axes>"
      ]
     },
     "metadata": {},
     "output_type": "display_data"
    },
    {
     "name": "stdout",
     "output_type": "stream",
     "text": [
      "4\n"
     ]
    }
   ],
   "source": [
    "def draImg(sample):\n",
    "    img =sample.reshape((28,28))\n",
    "    plt.imshow(img,cmap='gray')\n",
    "    plt.show()\n",
    "draImg(X_train[9])    #the image of 9th row's data \n",
    "print(Y_train[9])     #the label of the 9th row data\n"
   ]
  },
  {
   "cell_type": "markdown",
   "id": "98b3245b",
   "metadata": {},
   "source": [
    "# KNN algorithm"
   ]
  },
  {
   "cell_type": "code",
   "execution_count": 57,
   "id": "336d14d6",
   "metadata": {},
   "outputs": [],
   "source": [
    "#this is not learn any parameters ,it will not do the training \n",
    "def dist(x1,x2):\n",
    "    return np.sqrt(sum((x1-x2)**2))\n",
    "\n",
    "\n",
    "def KNN(x,y,Qury_point,k=5):\n",
    "    vals=[]\n",
    "    m=x.shape[0]\n",
    "    \n",
    "    for i in range(m):\n",
    "        d=dist(Qury_point,x[i])\n",
    "        vals.append((d,y[i]))\n",
    "        \n",
    "    vals=sorted(vals)\n",
    "    \n",
    "    #nearest find first k point \n",
    "    vals=vals[:k]\n",
    "    vals=np.array(vals)\n",
    "    \n",
    "    #print vals\n",
    "    new_vals=np.unique(vals[:,1],return_counts=True)\n",
    "    \n",
    "    #print(new_vals)\n",
    "    index=new_vals[1].argmax()\n",
    "    pred=new_vals[0][index]\n",
    "    return pred\n",
    "    \n",
    "        \n"
   ]
  },
  {
   "cell_type": "code",
   "execution_count": 59,
   "id": "dc04de3a",
   "metadata": {},
   "outputs": [
    {
     "data": {
      "text/plain": [
       "4.0"
      ]
     },
     "execution_count": 59,
     "metadata": {},
     "output_type": "execute_result"
    }
   ],
   "source": [
    "#let's do the prediction \n",
    "pred=KNN(X_train,Y_train,X_test[0])\n",
    "pred"
   ]
  },
  {
   "cell_type": "code",
   "execution_count": 60,
   "id": "60785165",
   "metadata": {},
   "outputs": [
    {
     "name": "stdout",
     "output_type": "stream",
     "text": [
      "[  0   0   0   0   0   0   0   0   0   0   0   0   0   0   0   0   0   0\n",
      "   0   0   0   0   0   0   0   0   0   0   0   0   0   0   0   0   0   0\n",
      "   0   0   0   0   0   0   0   0   0   0   0   0   0   0   0   0   0   0\n",
      "   0   0   0   0   0   0   0   0   0   0   0   0   0   0   0   0   0   0\n",
      "   0   0   0   0   0   0   0   0   0   0   0   0   0   0   0   0   0   0\n",
      "   0   0   0   0   0   0   0   0   0   0   0   0   0   0   0   0   0   0\n",
      "   0   0   0   0   0   0   0   0   0   0   0   0   0   0   0   0   0   0\n",
      "   0   0   0   0   0   0   0   0   0   0   0   0   0   0   0   0   0   0\n",
      "   0   0   0   0   0   0   0   0   0   0   0   0   0  11 120 183   0   0\n",
      "   0   0   0   0   0   0   0   0   0   0   0   0   0   0   0 106 146   0\n",
      "   0   0   0   0   0 128 242 182   0   0   0   0   0   0   0   0   0   0\n",
      "   0   0   0   0   0   0   0 121 199   4   0   0   0   0   0 140 247  48\n",
      "   0   0   0   0   0   0   0   0   0   0   0   0   0   0   0   0   0 121\n",
      " 254   9   0   0   0   0   0 140 245   0   0   0   0   0   0   0   0   0\n",
      "   0   0   0   0   0   0   0   0   0 112 254  18   0   0   0   0   0 149\n",
      " 163   0   0   0   0   0   0   0   0   0   0   0   0   0   0   0   0   0\n",
      "   0  25 254 106   0   0   0   0   0 236 148   0   0   0   0   0   0   0\n",
      "   0   0   0   0   0   0   0   0   0   0   0  45 254 106   0   0   0   0\n",
      "   0 236 148   0   0   0   0   0   0   0   0   0   0   0   0   0   0   0\n",
      "   0   0   0 121 254  62   0   0   0   0  72 251 141   0   0   0   0   0\n",
      "   0   0   0   0   0   0   0   0   0   0   0   0   0 151 227   6   0   0\n",
      "   0   0 173 255  53   0   0   0   0   0   0   0   0   0   0   0   0   0\n",
      "   0   0   0   0  33 238 168   0   0   0   0   0 173 246  43   0   0   0\n",
      "   0   0   0   0   0   0   0   0   0   0   0   0   0   0 136 254 173  15\n",
      "   3   0   0   1 178 169   0   0   0   0   0   0   0   0   0   0   0   0\n",
      "   0   0   0   0   0   0 136 243 254 254 187 173 155  88 254 115   0   0\n",
      "   0   0   0   0   0   0   0   0   0   0   0   0   0   0   0   0   7  25\n",
      " 115 135 211 211 219 254 255 191 100  44   4   0   0   0   0   0   0   0\n",
      "   0   0   0   0   0   0   0   0   0   0   0   0   0   0  10 217 255 246\n",
      " 245 248 191  22   0   0   0   0   0   0   0   0   0   0   0   0   0   0\n",
      "   0   0   0   0   0   0   0 207 203   7   0  25  73   0   0   0   0   0\n",
      "   0   0   0   0   0   0   0   0   0   0   0   0   0   0   0   0  44 250\n",
      " 127   0   0   0   0   0   0   0   0   0   0   0   0   0   0   0   0   0\n",
      "   0   0   0   0   0   0   0   0  87 254  82   0   0   0   0   0   0   0\n",
      "   0   0   0   0   0   0   0   0   0   0   0   0   0   0   0   0   0   0\n",
      " 170 254  82   0   0   0   0   0   0   0   0   0   0   0   0   0   0   0\n",
      "   0   0   0   0   0   0   0   0   0   0 241 242   9   0   0   0   0   0\n",
      "   0   0   0   0   0   0   0   0   0   0   0   0   0   0   0   0   0   0\n",
      "   0   0 204 203   0   0   0   0   0   0   0   0   0   0   0   0   0   0\n",
      "   0   0   0   0   0   0   0   0   0   0   0   0   0   0   0   0   0   0\n",
      "   0   0   0   0   0   0   0   0   0   0   0   0   0   0   0   0   0   0\n",
      "   0   0   0   0   0   0   0   0   0   0   0   0   0   0   0   0   0   0\n",
      "   0   0   0   0   0   0   0   0   0   0   0   0   0   0   0   0   0   0\n",
      "   0   0   0   0   0   0   0   0   0   0]\n"
     ]
    }
   ],
   "source": [
    "print(X_test[0])"
   ]
  },
  {
   "cell_type": "code",
   "execution_count": 63,
   "id": "a3c87e3d",
   "metadata": {},
   "outputs": [
    {
     "data": {
      "image/png": "[encoded data removed]",
      "text/plain": [
       "<Figure size 640x480 with 1 Axes>"
      ]
     },
     "metadata": {},
     "output_type": "display_data"
    },
    {
     "name": "stdout",
     "output_type": "stream",
     "text": [
      "4\n"
     ]
    }
   ],
   "source": [
    "#lets chacke our algorithm is giving correct prection or not ?\n",
    "def draImg(sample):\n",
    "    img =sample.reshape((28,28))\n",
    "    plt.imshow(img,cmap='gray')\n",
    "    plt.show()\n",
    "    \n",
    "draImg(X_test[0])    \n",
    "print(Y_test[0])  \n"
   ]
  },
  {
   "cell_type": "code",
   "execution_count": null,
   "id": "eaecffcb",
   "metadata": {},
   "outputs": [],
   "source": [
    "# so finally or  model is precting correct values \n",
    "# predicted value=4=actual value"
   ]
  }
 ],
 "metadata": {
  "kernelspec": {
   "display_name": "Python 3 (ipykernel)",
   "language": "python",
   "name": "python3"
  },
  "language_info": {
   "codemirror_mode": {
    "name": "ipython",
    "version": 3
   },
   "file_extension": ".py",
   "mimetype": "text/x-python",
   "name": "python",
   "nbconvert_exporter": "python",
   "pygments_lexer": "ipython3",
   "version": "3.10.9"
  }
 },
 "nbformat": 4,
 "nbformat_minor": 5
}
